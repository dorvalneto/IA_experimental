{
  "nbformat": 4,
  "nbformat_minor": 0,
  "metadata": {
    "colab": {
      "provenance": [],
      "include_colab_link": true
    },
    "kernelspec": {
      "name": "python3",
      "display_name": "Python 3"
    },
    "language_info": {
      "name": "python"
    }
  },
  "cells": [
    {
      "cell_type": "markdown",
      "metadata": {
        "id": "view-in-github",
        "colab_type": "text"
      },
      "source": [
        "<a href=\"https://colab.research.google.com/github/dorvalneto/IA_experimental/blob/main/Notebook_An%C3%A1lise_de_dados_com_Python_utilizando_o_ChatGPT_como_assistente.ipynb\" target=\"_parent\"><img src=\"https://colab.research.google.com/assets/colab-badge.svg\" alt=\"Open In Colab\"/></a>"
      ]
    },
    {
      "cell_type": "markdown",
      "source": [
        "![Alt text: Logo da Zoop](https://github.com/alura-cursos/python-analise-chatgpt-assistente/blob/main/Logos%20e%20paleta%20-%20ZOOP/Logo%20fundo%20colorido%20(2).png?raw=true)"
      ],
      "metadata": {
        "id": "ero2D81jdtyf"
      }
    },
    {
      "cell_type": "markdown",
      "source": [
        "# Aula 1 - Acesso aos dados"
      ],
      "metadata": {
        "id": "DNyJGph17zvA"
      }
    },
    {
      "cell_type": "code",
      "source": [
        "url = 'https://github.com/alura-cursos/python-analise-chatgpt-assistente/raw/main/Dados/dados_vendas.json'"
      ],
      "metadata": {
        "id": "a4sIvRiz7nUl"
      },
      "execution_count": null,
      "outputs": []
    },
    {
      "cell_type": "markdown",
      "source": [
        "### Prompt:\n",
        "\n",
        "Vamos atuar como cientistas de dados em uma empresa de supermercados.\n",
        "\n",
        "Recebemos dados no formato de arquivo JSON, estruturados em listas e dicionários. O arquivo está disponibilizado em uma URL do Github.\n",
        "\n",
        "Precisamos analisar esses dados para ajudar nas decisões da empresa. Programamos em Python e conhecemos as bibliotecas de análise de dados Numpy e Pandas. Portanto, priorize o uso dessas bibliotecas.\n",
        "\n",
        "Por favor, nos informe como podemos fazer a leitura desses dados no formato JSON e como podemos visualizá-los em formato de tabela no Python."
      ],
      "metadata": {
        "id": "Zt4oAgsS63kl"
      }
    },
    {
      "cell_type": "code",
      "source": [],
      "metadata": {
        "id": "e1tD9zUvqqfF"
      },
      "execution_count": null,
      "outputs": []
    },
    {
      "cell_type": "code",
      "source": [],
      "metadata": {
        "id": "yhsqoIF5qqbl"
      },
      "execution_count": null,
      "outputs": []
    },
    {
      "cell_type": "markdown",
      "source": [
        "### Prompt:\n",
        "\n",
        "O DataFrame \"df\" possui as colunas \"item_identificador\", \"loja_identificador\", \"vendas_totais\", \"item\" e \"loja\".\n",
        "\n",
        "As colunas \"item\" e \"loja\" contêm dicionários aninhados dentro de cada uma das linhas. Como posso transformar os dados dos dicionários e colunas para torná-los mais acessíveis no meu DataFrame?"
      ],
      "metadata": {
        "id": "83D4d29m-XUt"
      }
    },
    {
      "cell_type": "code",
      "source": [],
      "metadata": {
        "id": "yv3VwgdtqpGC"
      },
      "execution_count": null,
      "outputs": []
    },
    {
      "cell_type": "markdown",
      "source": [
        "# Aula 2 - Exploração dos dados"
      ],
      "metadata": {
        "id": "W4Lf2C57fuAl"
      }
    },
    {
      "cell_type": "markdown",
      "source": [
        "### Prompt:\n",
        "\n",
        "O DataFrame \"df\" contém dados referentes às vendas de diversos produtos em várias lojas do supermercado. São fornecidos IDs de produtos e IDs de lojas que comercializaram esses produtos, o total arrecadado em vendas, bem como descrições sobre o produto vendido e a loja que o vendeu.\n",
        "\n",
        "Estamos iniciando a etapa de exploração de dados, na qual desejamos conhecer os valores informados e identificar se existem valores ausentes, duplicados e outras inconsistências.\n",
        "\n",
        "Por favor, construa um código para executar a etapa de exploração de dados usando o Python.\n",
        "\n",
        "Não é necessário utilizar \"print()\" para mostrar o resultado das consultas."
      ],
      "metadata": {
        "id": "p8njjUdbfvyQ"
      }
    },
    {
      "cell_type": "code",
      "source": [],
      "metadata": {
        "id": "hJ8C-degqiPf"
      },
      "execution_count": null,
      "outputs": []
    },
    {
      "cell_type": "code",
      "source": [],
      "metadata": {
        "id": "vH567gGuqiIR"
      },
      "execution_count": null,
      "outputs": []
    },
    {
      "cell_type": "code",
      "source": [],
      "metadata": {
        "id": "vQe3V5TRqh-v"
      },
      "execution_count": null,
      "outputs": []
    },
    {
      "cell_type": "code",
      "source": [],
      "metadata": {
        "id": "0Mvw1yhwqh2Y"
      },
      "execution_count": null,
      "outputs": []
    },
    {
      "cell_type": "code",
      "source": [],
      "metadata": {
        "id": "9ELlCNNTqhvJ"
      },
      "execution_count": null,
      "outputs": []
    },
    {
      "cell_type": "code",
      "source": [],
      "metadata": {
        "id": "uhZzt4VXqhnp"
      },
      "execution_count": null,
      "outputs": []
    },
    {
      "cell_type": "code",
      "source": [],
      "metadata": {
        "id": "vbx16nzZqhgx"
      },
      "execution_count": null,
      "outputs": []
    },
    {
      "cell_type": "markdown",
      "source": [
        "### Prompt:\n",
        "\n",
        "O DataFrame \"df\" contém dados relacionados às vendas durante um trimestre de um supermercado. Desejo utilizá-lo para verificar o desempenho dessas vendas.\n",
        "\n",
        "Durante a exploração do \"df\", identificamos algumas inconsistências, como:\n",
        "\n",
        "- Linhas duplicadas,\n",
        "- Valores nulos e\n",
        "- Dados categóricos que foram escritos de maneira não padronizada, dando a ideia de que existem mais categorias do que as que realmente existem.\n",
        "\n",
        "O que devo fazer para garantir que essas inconsistências que encontrei não afetem minha análise?"
      ],
      "metadata": {
        "id": "C19M8aSDYvCG"
      }
    },
    {
      "cell_type": "markdown",
      "source": [
        "# Aula 3 - Limpeza e tratamento"
      ],
      "metadata": {
        "id": "G_hAVoCRvPQr"
      }
    },
    {
      "cell_type": "markdown",
      "source": [
        "### Prompt:\n",
        "\n",
        "Durante a exploração do DataFrame \"df\", identificamos 27 linhas duplicadas usando \"df.duplicated().sum()\".\n",
        "\n",
        "O objetivo é analisar os dados em \"df\" para medir o desempenho de uma empresa durante um trimestre de vendas.\n",
        "\n",
        "O que devemos fazer com os dados duplicados para garantir que não haja impacto negativo na análise?"
      ],
      "metadata": {
        "id": "7ufY_5AMkh2T"
      }
    },
    {
      "cell_type": "code",
      "source": [],
      "metadata": {
        "id": "cGZGWMtjqWYQ"
      },
      "execution_count": null,
      "outputs": []
    },
    {
      "cell_type": "markdown",
      "source": [
        "### Prompt:\n",
        "\n",
        "Identificamos três colunas em \"df\" que apresentam valores nulos:\n",
        "\n",
        "- A coluna \"item_quantidade_venda\" possui 8550 linhas com valores nulos.\n",
        "- A coluna \"item_peso\" possui 1469 linhas com valores nulos.\n",
        "- A coluna \"loja_tamanho\" possui 2417 linhas com valores nulos.\n",
        "\n",
        "Houve um grande número de vendas de itens durante o trimestre, e não há justificativa para a ausência de dados na coluna \"item_quantidade_venda\", o que a torna uma coluna dispensável.\n",
        "\n",
        "A coluna \"item_peso\" contém valores do tipo float, representando o peso em gramas dos produtos.\n",
        "\n",
        "A coluna \"loja_tamanho\" possui três categorias de tamanho para supermercados.\n",
        "\n",
        "Como devo lidar com esses dados nulos para garantir que minha análise não seja prejudicada?"
      ],
      "metadata": {
        "id": "I6Hy7Ytastru"
      }
    },
    {
      "cell_type": "code",
      "source": [],
      "metadata": {
        "id": "leAfcy8hqTip"
      },
      "execution_count": null,
      "outputs": []
    },
    {
      "cell_type": "code",
      "source": [],
      "metadata": {
        "id": "VLsPoyLUqTb_"
      },
      "execution_count": null,
      "outputs": []
    },
    {
      "cell_type": "code",
      "source": [],
      "metadata": {
        "id": "r382rlQJqTTP"
      },
      "execution_count": null,
      "outputs": []
    },
    {
      "cell_type": "code",
      "source": [],
      "metadata": {
        "id": "blpHqYcZqTL1"
      },
      "execution_count": null,
      "outputs": []
    },
    {
      "cell_type": "markdown",
      "source": [
        "### Prompt:\n",
        "\n",
        "A coluna \"item_conteudo_gordura\" do DataFrame \"df\" apresenta 5 valores únicos dados por: 'Baixo Teor de Gordura', 'Regular', 'BTG', 'reg' e 'baixo teor de gordura'.\n",
        "\n",
        "Os valores únicos da coluna \"item_conteudo_gordura\" deveriam ser apenas 'Baixo Teor de Gordura' e 'Regular', mas foram inseridos sem padronização, o que resultou em mais categorias do que o desejado.\n",
        "\n",
        "Como posso ajustar os dados da coluna \"item_conteudo_gordura\" para manter apenas as duas categorias padrões?"
      ],
      "metadata": {
        "id": "9AkMkZZh7iTm"
      }
    },
    {
      "cell_type": "code",
      "source": [],
      "metadata": {
        "id": "LNBMAXCbqRBV"
      },
      "execution_count": null,
      "outputs": []
    },
    {
      "cell_type": "markdown",
      "source": [
        "# Aula 4 - Visualização dos dados"
      ],
      "metadata": {
        "id": "rQz1ZnoU7os1"
      }
    },
    {
      "cell_type": "markdown",
      "source": [
        "### Prompt:\n",
        "\n",
        "Os dados do DataFrame \"df\" estão limpos e tratados. Agora, desejo iniciar a etapa de construção de gráficos para criar visualizações que ofereçam um bom suporte à análise do desempenho de vendas da empresa.\n",
        "\n",
        "As colunas disponíveis em \"df\" são as seguintes:\n",
        "- \"item_identificador\": Número único atribuído a cada Item\n",
        "- \"loja_identificador\": Nome único da Loja\n",
        "- \"vendas_totais\": Valor obtido em vendas totais\n",
        "- \"item_peso\": Peso do Item em gramas\n",
        "- \"item_conteudo_gordura\": Conteúdo de Gordura do Item\n",
        "- \"item_visibilidade\": Valor de posicionamento de cada item.\n",
        "- \"item_tipo\": Tipo de utilidade do item\n",
        "- \"item_preço\": Preço unitário do item\n",
        "- \"loja_ano_estabelecimento\": Ano de Estabelecimento da Loja.\n",
        "- \"loja_tamanho\": Tamanho da Loja\n",
        "- \"loja_tipo_localização\": Tipo de localização da loja\n",
        "- \"loja_tipo\": Tipo de loja.\n",
        "\n",
        "O objetivo é encontrar padrões ou informações que se destacam quando nos referimos ao total obtido em vendas especificado na coluna \"vendas_totais\".\n",
        "\n",
        "Com base nas informações fornecidas, quais tipos de visualizações seriam úteis para atingir o objetivo de analisar o desempenho de vendas?"
      ],
      "metadata": {
        "id": "VFVsWaue7x5S"
      }
    },
    {
      "cell_type": "markdown",
      "source": [
        "### Prompt:\n",
        "\n",
        "O DataFrame \"df\" contém a coluna \"vendas_totais\", que informa o valor em reais obtido em vendas de produtos por várias lojas.\n",
        "\n",
        "Além disso, em \"df\", temos a coluna \"loja_tamanho\" com 4 categorias de tamanho para lojas: 'Grande', 'Médio', 'Pequeno' e 'Não registrado'.\n",
        "\n",
        "Desejo criar uma visualização que permita identificar o total obtido em vendas para as quatro categorias de tamanho de loja e representá-las em um gráfico de barras.\n",
        "\n",
        "Os dados na coluna \"vendas_totais\" precisam ser agrupados pelas categorias de \"loja_tamanho\".\n",
        "\n",
        "A figura da plotagem deve seguir a identidade visual da loja, com o fundo da figura e do plot na cor \"#ebebeb\" e as barras na cor \"#e23155\".\n",
        "\n",
        "Além disso, é necessário exibir o total das vendas em milhões acima de cada coluna, com o texto dessa informação na cor \"#19325c\" e a estrutura \"R$ valor M\".\n",
        "\n",
        "Utilize as bibliotecas de visualização de dados do Python para criar essa visualização."
      ],
      "metadata": {
        "id": "K3ZOiEzb8BZr"
      }
    },
    {
      "cell_type": "code",
      "source": [],
      "metadata": {
        "id": "_6Bpz6faFvCQ"
      },
      "execution_count": null,
      "outputs": []
    },
    {
      "cell_type": "markdown",
      "source": [
        "### Prompt:\n",
        "\n",
        "O DataFrame \"df\" contém a coluna \"vendas_totais\", que informa o valor em reais obtido em vendas de produtos por várias lojas.\n",
        "\n",
        "Além disso, em \"df\", temos a coluna \"loja_tipo\" com 4 categorias de tipo para lojas: 'Supermercado Tipo 1', 'Supermercado Tipo 2',  'Mercado', 'Supermercado Tipo 3'.\n",
        "\n",
        "Desejo criar uma visualização que permita identificar o total obtido em vendas para as quatro categorias de tipo de loja e representá-las em um gráfico de barras.\n",
        "\n",
        "Os dados na coluna \"vendas_totais\" precisam ser agrupados pelas categorias de \"loja_tipo\".\n",
        "\n",
        "A figura da plotagem deve seguir a identidade visual da loja, com o fundo da figura e do plot na cor \"#ebebeb\" e as barras na cor \"#e23155\".\n",
        "\n",
        "Além disso, é necessário exibir o total das vendas em milhões acima de cada coluna, com o texto dessa informação na cor \"#19325c\" e a estrutura \"R$ valor M\".\n",
        "\n",
        "Utilize as bibliotecas de visualização de dados do Python para criar essa visualização."
      ],
      "metadata": {
        "id": "g9cLdbTfdpT2"
      }
    },
    {
      "cell_type": "code",
      "source": [],
      "metadata": {
        "id": "t5IVB-JLFtAG"
      },
      "execution_count": null,
      "outputs": []
    },
    {
      "cell_type": "markdown",
      "source": [
        "### Prompt:\n",
        "\n",
        "O DataFrame \"df\" contém a coluna \"vendas_totais\", que informa o valor em reais obtido em vendas de produtos por várias lojas.\n",
        "\n",
        "Além disso, em \"df\", temos a coluna \"item_tipo\" com 16 categorias de produtos.\n",
        "\n",
        "Desejo criar uma visualização que permita identificar o total obtido em vendas por categorias de produtos em um gráfico de barras horizontais.\n",
        "\n",
        "Os dados na coluna \"vendas_totais\" precisam ser agrupados pelas categorias de \"item_tipo\".\n",
        "\n",
        "A figura da plotagem deve seguir a identidade visual da loja, com o fundo da figura e do plot na cor \"#ebebeb\".\n",
        "\n",
        "As barras precisam estar na cor \"#e23155\".\n",
        "\n",
        "Os valores das barras precisam estar ordenadas para manter um aspecto de funil.\n",
        "\n",
        "Além disso, é necessário exibir o total das vendas em milhões dentro ou ao lado de cada barra, com o texto dessa informação na cor \"#19325c\" e na estrutura \"R$ valor M\".\n",
        "\n",
        "Não mostre o grid no plot.\n",
        "\n",
        "Utilize as bibliotecas de visualização de dados do Python para criar essa visualização."
      ],
      "metadata": {
        "id": "Mx19h7MF8CR6"
      }
    },
    {
      "cell_type": "code",
      "source": [],
      "metadata": {
        "id": "nWO4lWZRFrLk"
      },
      "execution_count": null,
      "outputs": []
    },
    {
      "cell_type": "markdown",
      "source": [
        "### Prompt:\n",
        "\n",
        "O DataFrame \"df\" contém a coluna \"vendas_totais\", que informa o valor em reais obtido em vendas de produtos por várias lojas.\n",
        "\n",
        "Além disso, em \"df\", temos a coluna \"item_conteudo_gordura\" com 2 categorias: 'Baixo Teor de Gordura' e 'Regular'.\n",
        "\n",
        "Desejo criar uma visualização que permita identificar o total obtido em vendas para as 2 categorias de quantidade de gordura em um gráfico de coluna.\n",
        "\n",
        "Os dados na coluna \"vendas_totais\" precisam ser agrupados pelas categorias de \"item_conteudo_gordura\".\n",
        "\n",
        "A figura da plotagem deve seguir a identidade visual da loja, com o fundo da figura e do plot na cor \"#ebebeb\".\n",
        "\n",
        "As colunas de cada categoria devem ter cores específicas: a categoria 'Baixo Teor de Gordura' na cor \"#e23155\" e a categoria 'Regular' na cor \"#acdcd3\".\n",
        "\n",
        "Além disso, é necessário exibir o total das vendas em milhões acima de cada coluna, com o texto dessa informação na cor \"#19325c\" e na estrutura \"R$ valor M\".\n",
        "\n",
        "Utilize as bibliotecas de visualização de dados do Python para criar essa visualização."
      ],
      "metadata": {
        "id": "c-eDDmkPdrTZ"
      }
    },
    {
      "cell_type": "code",
      "source": [],
      "metadata": {
        "id": "pWv3JHNOclRt"
      },
      "execution_count": null,
      "outputs": []
    }
  ]
}